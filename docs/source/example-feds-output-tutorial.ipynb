{
 "cells": [
  {
   "cell_type": "markdown",
   "id": "b48aadea",
   "metadata": {},
   "source": [
    "# MAAP directory mappings\n",
    "\n",
    "- Home directory == `/projects`\n",
    "\n",
    "- `my-private-bucket` -- ??; accessible only to your user\n",
    "- `my-public-bucket` == `shared-buckets/<username>` == `s3://maap-ops-workspace/shared/<username>"
   ]
  },
  {
   "cell_type": "markdown",
   "id": "0aceed2a",
   "metadata": {},
   "source": [
    "# FEDS directories"
   ]
  },
  {
   "cell_type": "markdown",
   "id": "310ae1c4",
   "metadata": {},
   "source": [
    "Input and output paths are set in the `FireConsts.py` file."
   ]
  },
  {
   "cell_type": "code",
   "execution_count": 1,
   "id": "746cf052",
   "metadata": {},
   "outputs": [],
   "source": [
    "diroutdata = 's3://maap-ops-workspace/shared/gsfc_landslides/FEDSoutput-s3-conus'\n",
    "dirextdata = 's3://maap-ops-workspace/shared/gsfc_landslides/FEDSinput'"
   ]
  },
  {
   "cell_type": "markdown",
   "id": "5ff135ff",
   "metadata": {},
   "source": [
    "# MAAP DPS notes"
   ]
  },
  {
   "cell_type": "markdown",
   "id": "eba29f16",
   "metadata": {},
   "source": [
    "`shared-buckets/gsfc_landslides/fireatlas-dps-demo.ipynb`"
   ]
  },
  {
   "cell_type": "markdown",
   "id": "e43ed041",
   "metadata": {},
   "source": [
    "# Browsing S3 buckets"
   ]
  },
  {
   "cell_type": "code",
   "execution_count": 2,
   "id": "412aad4e",
   "metadata": {},
   "outputs": [],
   "source": [
    "import s3fs"
   ]
  },
  {
   "cell_type": "code",
   "execution_count": 3,
   "id": "9c24f63d",
   "metadata": {},
   "outputs": [],
   "source": [
    "s3 = s3fs.S3FileSystem(anon=False)"
   ]
  },
  {
   "cell_type": "code",
   "execution_count": 4,
   "id": "0dec9a5e",
   "metadata": {},
   "outputs": [
    {
     "data": {
      "text/plain": [
       "['maap-ops-workspace/shared/gsfc_landslides/FEDSoutput-s3-conus/',\n",
       " 'maap-ops-workspace/shared/gsfc_landslides/FEDSoutput-s3-conus/.ipynb_checkpoints',\n",
       " 'maap-ops-workspace/shared/gsfc_landslides/FEDSoutput-s3-conus/Buzzard',\n",
       " 'maap-ops-workspace/shared/gsfc_landslides/FEDSoutput-s3-conus/CA',\n",
       " 'maap-ops-workspace/shared/gsfc_landslides/FEDSoutput-s3-conus/CONUS',\n",
       " 'maap-ops-workspace/shared/gsfc_landslides/FEDSoutput-s3-conus/CONUS_NRT',\n",
       " 'maap-ops-workspace/shared/gsfc_landslides/FEDSoutput-s3-conus/Caldor',\n",
       " 'maap-ops-workspace/shared/gsfc_landslides/FEDSoutput-s3-conus/Creek',\n",
       " 'maap-ops-workspace/shared/gsfc_landslides/FEDSoutput-s3-conus/CreekRegion',\n",
       " 'maap-ops-workspace/shared/gsfc_landslides/FEDSoutput-s3-conus/Dixie',\n",
       " 'maap-ops-workspace/shared/gsfc_landslides/FEDSoutput-s3-conus/Dixie_test',\n",
       " 'maap-ops-workspace/shared/gsfc_landslides/FEDSoutput-s3-conus/GrizzlyCreek',\n",
       " 'maap-ops-workspace/shared/gsfc_landslides/FEDSoutput-s3-conus/Meyers',\n",
       " 'maap-ops-workspace/shared/gsfc_landslides/FEDSoutput-s3-conus/Schaeffer',\n",
       " 'maap-ops-workspace/shared/gsfc_landslides/FEDSoutput-s3-conus/Thomas',\n",
       " 'maap-ops-workspace/shared/gsfc_landslides/FEDSoutput-s3-conus/WesternUS',\n",
       " 'maap-ops-workspace/shared/gsfc_landslides/FEDSoutput-s3-conus/Woodbury']"
      ]
     },
     "execution_count": 4,
     "metadata": {},
     "output_type": "execute_result"
    }
   ],
   "source": [
    "s3.ls(f\"{diroutdata}\")"
   ]
  },
  {
   "cell_type": "code",
   "execution_count": 5,
   "id": "15237472",
   "metadata": {},
   "outputs": [
    {
     "data": {
      "text/plain": [
       "['maap-ops-workspace/shared/gsfc_landslides/FEDSoutput-s3-conus/Caldor/2021/Largefire/F0_20210816AM/fireline.fgb',\n",
       " 'maap-ops-workspace/shared/gsfc_landslides/FEDSoutput-s3-conus/Caldor/2021/Largefire/F0_20210816AM/newfirepix.fgb',\n",
       " 'maap-ops-workspace/shared/gsfc_landslides/FEDSoutput-s3-conus/Caldor/2021/Largefire/F0_20210816AM/nfplist.fgb',\n",
       " 'maap-ops-workspace/shared/gsfc_landslides/FEDSoutput-s3-conus/Caldor/2021/Largefire/F0_20210816AM/perimeter.fgb']"
      ]
     },
     "execution_count": 5,
     "metadata": {},
     "output_type": "execute_result"
    }
   ],
   "source": [
    "s3.ls(f\"{diroutdata}/Caldor/2021/Largefire/F0_20210816AM\")"
   ]
  },
  {
   "cell_type": "markdown",
   "id": "ce2db90d",
   "metadata": {},
   "source": [
    "# Reading Pickled fire objects"
   ]
  },
  {
   "cell_type": "code",
   "execution_count": 6,
   "id": "b53a1a36",
   "metadata": {},
   "outputs": [
    {
     "data": {
      "text/plain": [
       "['maap-ops-workspace/shared/gsfc_landslides/FEDSoutput-s3-conus/Caldor/2021/Serialization/20210814AM.pkl',\n",
       " 'maap-ops-workspace/shared/gsfc_landslides/FEDSoutput-s3-conus/Caldor/2021/Serialization/20210814AM_full.pkl',\n",
       " 'maap-ops-workspace/shared/gsfc_landslides/FEDSoutput-s3-conus/Caldor/2021/Serialization/20210814PM.pkl',\n",
       " 'maap-ops-workspace/shared/gsfc_landslides/FEDSoutput-s3-conus/Caldor/2021/Serialization/20210814PM_full.pkl',\n",
       " 'maap-ops-workspace/shared/gsfc_landslides/FEDSoutput-s3-conus/Caldor/2021/Serialization/20210815AM.pkl',\n",
       " 'maap-ops-workspace/shared/gsfc_landslides/FEDSoutput-s3-conus/Caldor/2021/Serialization/20210815AM_full.pkl',\n",
       " 'maap-ops-workspace/shared/gsfc_landslides/FEDSoutput-s3-conus/Caldor/2021/Serialization/20210815PM.pkl',\n",
       " 'maap-ops-workspace/shared/gsfc_landslides/FEDSoutput-s3-conus/Caldor/2021/Serialization/20210815PM_full.pkl']"
      ]
     },
     "execution_count": 6,
     "metadata": {},
     "output_type": "execute_result"
    }
   ],
   "source": [
    "s3.ls(f\"{diroutdata}/Caldor/2021/Serialization/\")[0:8]"
   ]
  },
  {
   "cell_type": "code",
   "execution_count": 7,
   "id": "179858bf",
   "metadata": {},
   "outputs": [],
   "source": [
    "pkl_path = 's3://' + s3.ls(f\"{diroutdata}/Caldor/2021/Serialization/\")[0]"
   ]
  },
  {
   "cell_type": "code",
   "execution_count": 8,
   "id": "cb8c558f",
   "metadata": {},
   "outputs": [
    {
     "data": {
      "text/plain": [
       "'s3://maap-ops-workspace/shared/gsfc_landslides/FEDSoutput-s3-conus/Caldor/2021/Serialization/20210814AM.pkl'"
      ]
     },
     "execution_count": 8,
     "metadata": {},
     "output_type": "execute_result"
    }
   ],
   "source": [
    "pkl_path"
   ]
  },
  {
   "cell_type": "code",
   "execution_count": 9,
   "id": "2ba6e321",
   "metadata": {},
   "outputs": [],
   "source": [
    "import sys\n",
    "sys.path.insert(0, \"/projects/fireatlas-ashiklom\")"
   ]
  },
  {
   "cell_type": "code",
   "execution_count": 25,
   "id": "288c4f28",
   "metadata": {},
   "outputs": [
    {
     "data": {
      "text/plain": [
       "'/projects'"
      ]
     },
     "execution_count": 25,
     "metadata": {},
     "output_type": "execute_result"
    }
   ],
   "source": [
    "import os\n",
    "os.getcwd()"
   ]
  },
  {
   "cell_type": "code",
   "execution_count": 19,
   "id": "2564c385",
   "metadata": {},
   "outputs": [
    {
     "ename": "ModuleNotFoundError",
     "evalue": "No module named 'FireObj'",
     "output_type": "error",
     "traceback": [
      "\u001b[0;31m---------------------------------------------------------------------------\u001b[0m",
      "\u001b[0;31mModuleNotFoundError\u001b[0m                       Traceback (most recent call last)",
      "\u001b[0;32m/tmp/ipykernel_15727/1414946208.py\u001b[0m in \u001b[0;36m<module>\u001b[0;34m\u001b[0m\n\u001b[1;32m      1\u001b[0m \u001b[0;32mimport\u001b[0m \u001b[0mpickle\u001b[0m\u001b[0;34m\u001b[0m\u001b[0;34m\u001b[0m\u001b[0m\n\u001b[0;32m----> 2\u001b[0;31m \u001b[0;32mimport\u001b[0m \u001b[0mFireObj\u001b[0m\u001b[0;34m.\u001b[0m\u001b[0mpy\u001b[0m\u001b[0;34m\u001b[0m\u001b[0;34m\u001b[0m\u001b[0m\n\u001b[0m",
      "\u001b[0;31mModuleNotFoundError\u001b[0m: No module named 'FireObj'"
     ]
    }
   ],
   "source": [
    "import pickle\n",
    "import FireObj"
   ]
  },
  {
   "cell_type": "code",
   "execution_count": 16,
   "id": "0b0f1112",
   "metadata": {},
   "outputs": [
    {
     "ename": "ModuleNotFoundError",
     "evalue": "No module named 'FireObj'",
     "output_type": "error",
     "traceback": [
      "\u001b[0;31m---------------------------------------------------------------------------\u001b[0m",
      "\u001b[0;31mModuleNotFoundError\u001b[0m                       Traceback (most recent call last)",
      "\u001b[0;32m/tmp/ipykernel_15727/3373410471.py\u001b[0m in \u001b[0;36m<module>\u001b[0;34m\u001b[0m\n\u001b[1;32m      1\u001b[0m \u001b[0;32mwith\u001b[0m \u001b[0ms3\u001b[0m\u001b[0;34m.\u001b[0m\u001b[0mopen\u001b[0m\u001b[0;34m(\u001b[0m\u001b[0mpkl_path\u001b[0m\u001b[0;34m)\u001b[0m \u001b[0;32mas\u001b[0m \u001b[0mfile\u001b[0m\u001b[0;34m:\u001b[0m\u001b[0;34m\u001b[0m\u001b[0;34m\u001b[0m\u001b[0m\n\u001b[0;32m----> 2\u001b[0;31m     \u001b[0mfobj\u001b[0m \u001b[0;34m=\u001b[0m \u001b[0mpickle\u001b[0m\u001b[0;34m.\u001b[0m\u001b[0mload\u001b[0m\u001b[0;34m(\u001b[0m\u001b[0mfile\u001b[0m\u001b[0;34m)\u001b[0m\u001b[0;34m\u001b[0m\u001b[0;34m\u001b[0m\u001b[0m\n\u001b[0m",
      "\u001b[0;31mModuleNotFoundError\u001b[0m: No module named 'FireObj'"
     ]
    }
   ],
   "source": [
    "with s3.open(pkl_path) as file:\n",
    "    fobj = pickle.load(file)"
   ]
  },
  {
   "cell_type": "code",
   "execution_count": 17,
   "id": "48fd2e50",
   "metadata": {},
   "outputs": [
    {
     "ename": "NameError",
     "evalue": "name 'fobj' is not defined",
     "output_type": "error",
     "traceback": [
      "\u001b[0;31m---------------------------------------------------------------------------\u001b[0m",
      "\u001b[0;31mNameError\u001b[0m                                 Traceback (most recent call last)",
      "\u001b[0;32m/tmp/ipykernel_15727/2354222660.py\u001b[0m in \u001b[0;36m<module>\u001b[0;34m\u001b[0m\n\u001b[0;32m----> 1\u001b[0;31m \u001b[0mfobj\u001b[0m\u001b[0;34m.\u001b[0m\u001b[0mt\u001b[0m\u001b[0;34m\u001b[0m\u001b[0;34m\u001b[0m\u001b[0m\n\u001b[0m",
      "\u001b[0;31mNameError\u001b[0m: name 'fobj' is not defined"
     ]
    }
   ],
   "source": [
    "fobj.t"
   ]
  },
  {
   "cell_type": "markdown",
   "id": "a15fb3be",
   "metadata": {},
   "source": [
    "# Explore inputs"
   ]
  },
  {
   "cell_type": "code",
   "execution_count": 20,
   "id": "63e1595b",
   "metadata": {},
   "outputs": [],
   "source": [
    "import pandas as pd"
   ]
  },
  {
   "cell_type": "code",
   "execution_count": 21,
   "id": "e1db6d86",
   "metadata": {},
   "outputs": [
    {
     "data": {
      "text/plain": [
       "['maap-ops-workspace/shared/gsfc_landslides/FEDSinput/VIIRS/VNP14IMGTDL/',\n",
       " 'maap-ops-workspace/shared/gsfc_landslides/FEDSinput/VIIRS/VNP14IMGTDL/.ipynb_checkpoints',\n",
       " 'maap-ops-workspace/shared/gsfc_landslides/FEDSinput/VIIRS/VNP14IMGTDL/SUOMI_VIIRS_C2_Global_VNP14IMGTDL_NRT_2021077.txt',\n",
       " 'maap-ops-workspace/shared/gsfc_landslides/FEDSinput/VIIRS/VNP14IMGTDL/SUOMI_VIIRS_C2_Global_VNP14IMGTDL_NRT_2021078.txt',\n",
       " 'maap-ops-workspace/shared/gsfc_landslides/FEDSinput/VIIRS/VNP14IMGTDL/SUOMI_VIIRS_C2_Global_VNP14IMGTDL_NRT_2021079.txt',\n",
       " 'maap-ops-workspace/shared/gsfc_landslides/FEDSinput/VIIRS/VNP14IMGTDL/SUOMI_VIIRS_C2_Global_VNP14IMGTDL_NRT_2021080.txt',\n",
       " 'maap-ops-workspace/shared/gsfc_landslides/FEDSinput/VIIRS/VNP14IMGTDL/SUOMI_VIIRS_C2_Global_VNP14IMGTDL_NRT_2021081.txt',\n",
       " 'maap-ops-workspace/shared/gsfc_landslides/FEDSinput/VIIRS/VNP14IMGTDL/SUOMI_VIIRS_C2_Global_VNP14IMGTDL_NRT_2021082.txt',\n",
       " 'maap-ops-workspace/shared/gsfc_landslides/FEDSinput/VIIRS/VNP14IMGTDL/SUOMI_VIIRS_C2_Global_VNP14IMGTDL_NRT_2021083.txt',\n",
       " 'maap-ops-workspace/shared/gsfc_landslides/FEDSinput/VIIRS/VNP14IMGTDL/SUOMI_VIIRS_C2_Global_VNP14IMGTDL_NRT_2021084.txt']"
      ]
     },
     "execution_count": 21,
     "metadata": {},
     "output_type": "execute_result"
    }
   ],
   "source": [
    "s3.ls(dirextdata + \"/VIIRS/VNP14IMGTDL\")[0:10]"
   ]
  },
  {
   "cell_type": "code",
   "execution_count": 22,
   "id": "4f3d69fa",
   "metadata": {},
   "outputs": [],
   "source": [
    "dat = pd.read_csv(\"s3://maap-ops-workspace/shared/gsfc_landslides/FEDSinput/VIIRS/VNP14IMGTDL/SUOMI_VIIRS_C2_Global_VNP14IMGTDL_NRT_2021077.txt\")"
   ]
  },
  {
   "cell_type": "code",
   "execution_count": 23,
   "id": "780b7205",
   "metadata": {},
   "outputs": [
    {
     "data": {
      "text/html": [
       "<div>\n",
       "<style scoped>\n",
       "    .dataframe tbody tr th:only-of-type {\n",
       "        vertical-align: middle;\n",
       "    }\n",
       "\n",
       "    .dataframe tbody tr th {\n",
       "        vertical-align: top;\n",
       "    }\n",
       "\n",
       "    .dataframe thead th {\n",
       "        text-align: right;\n",
       "    }\n",
       "</style>\n",
       "<table border=\"1\" class=\"dataframe\">\n",
       "  <thead>\n",
       "    <tr style=\"text-align: right;\">\n",
       "      <th></th>\n",
       "      <th>latitude</th>\n",
       "      <th>longitude</th>\n",
       "      <th>bright_ti4</th>\n",
       "      <th>scan</th>\n",
       "      <th>track</th>\n",
       "      <th>acq_date</th>\n",
       "      <th>acq_time</th>\n",
       "      <th>satellite</th>\n",
       "      <th>confidence</th>\n",
       "      <th>version</th>\n",
       "      <th>bright_ti5</th>\n",
       "      <th>frp</th>\n",
       "      <th>daynight</th>\n",
       "    </tr>\n",
       "  </thead>\n",
       "  <tbody>\n",
       "    <tr>\n",
       "      <th>0</th>\n",
       "      <td>67.81876</td>\n",
       "      <td>80.10433</td>\n",
       "      <td>347.8</td>\n",
       "      <td>0.61</td>\n",
       "      <td>0.71</td>\n",
       "      <td>2021-03-18</td>\n",
       "      <td>00:42</td>\n",
       "      <td>N</td>\n",
       "      <td>nominal</td>\n",
       "      <td>2.0NRT</td>\n",
       "      <td>242.4</td>\n",
       "      <td>8.4</td>\n",
       "      <td>N</td>\n",
       "    </tr>\n",
       "    <tr>\n",
       "      <th>1</th>\n",
       "      <td>67.81555</td>\n",
       "      <td>80.10366</td>\n",
       "      <td>328.0</td>\n",
       "      <td>0.61</td>\n",
       "      <td>0.71</td>\n",
       "      <td>2021-03-18</td>\n",
       "      <td>00:42</td>\n",
       "      <td>N</td>\n",
       "      <td>nominal</td>\n",
       "      <td>2.0NRT</td>\n",
       "      <td>240.6</td>\n",
       "      <td>3.5</td>\n",
       "      <td>N</td>\n",
       "    </tr>\n",
       "    <tr>\n",
       "      <th>2</th>\n",
       "      <td>68.52261</td>\n",
       "      <td>79.94617</td>\n",
       "      <td>346.1</td>\n",
       "      <td>0.55</td>\n",
       "      <td>0.68</td>\n",
       "      <td>2021-03-18</td>\n",
       "      <td>00:42</td>\n",
       "      <td>N</td>\n",
       "      <td>nominal</td>\n",
       "      <td>2.0NRT</td>\n",
       "      <td>238.6</td>\n",
       "      <td>6.5</td>\n",
       "      <td>N</td>\n",
       "    </tr>\n",
       "    <tr>\n",
       "      <th>3</th>\n",
       "      <td>68.52469</td>\n",
       "      <td>79.96271</td>\n",
       "      <td>367.0</td>\n",
       "      <td>0.55</td>\n",
       "      <td>0.68</td>\n",
       "      <td>2021-03-18</td>\n",
       "      <td>00:42</td>\n",
       "      <td>N</td>\n",
       "      <td>high</td>\n",
       "      <td>2.0NRT</td>\n",
       "      <td>247.0</td>\n",
       "      <td>6.5</td>\n",
       "      <td>N</td>\n",
       "    </tr>\n",
       "    <tr>\n",
       "      <th>4</th>\n",
       "      <td>68.52319</td>\n",
       "      <td>79.95365</td>\n",
       "      <td>367.0</td>\n",
       "      <td>0.55</td>\n",
       "      <td>0.68</td>\n",
       "      <td>2021-03-18</td>\n",
       "      <td>00:42</td>\n",
       "      <td>N</td>\n",
       "      <td>high</td>\n",
       "      <td>2.0NRT</td>\n",
       "      <td>247.8</td>\n",
       "      <td>11.1</td>\n",
       "      <td>N</td>\n",
       "    </tr>\n",
       "    <tr>\n",
       "      <th>...</th>\n",
       "      <td>...</td>\n",
       "      <td>...</td>\n",
       "      <td>...</td>\n",
       "      <td>...</td>\n",
       "      <td>...</td>\n",
       "      <td>...</td>\n",
       "      <td>...</td>\n",
       "      <td>...</td>\n",
       "      <td>...</td>\n",
       "      <td>...</td>\n",
       "      <td>...</td>\n",
       "      <td>...</td>\n",
       "      <td>...</td>\n",
       "    </tr>\n",
       "    <tr>\n",
       "      <th>33691</th>\n",
       "      <td>-33.98628</td>\n",
       "      <td>24.23182</td>\n",
       "      <td>301.5</td>\n",
       "      <td>0.40</td>\n",
       "      <td>0.37</td>\n",
       "      <td>2021-03-18</td>\n",
       "      <td>23:12</td>\n",
       "      <td>N</td>\n",
       "      <td>nominal</td>\n",
       "      <td>2.0NRT</td>\n",
       "      <td>288.2</td>\n",
       "      <td>0.8</td>\n",
       "      <td>N</td>\n",
       "    </tr>\n",
       "    <tr>\n",
       "      <th>33692</th>\n",
       "      <td>-33.98705</td>\n",
       "      <td>24.23626</td>\n",
       "      <td>299.4</td>\n",
       "      <td>0.40</td>\n",
       "      <td>0.37</td>\n",
       "      <td>2021-03-18</td>\n",
       "      <td>23:12</td>\n",
       "      <td>N</td>\n",
       "      <td>nominal</td>\n",
       "      <td>2.0NRT</td>\n",
       "      <td>287.6</td>\n",
       "      <td>0.4</td>\n",
       "      <td>N</td>\n",
       "    </tr>\n",
       "    <tr>\n",
       "      <th>33693</th>\n",
       "      <td>-32.96273</td>\n",
       "      <td>18.04679</td>\n",
       "      <td>306.1</td>\n",
       "      <td>0.52</td>\n",
       "      <td>0.50</td>\n",
       "      <td>2021-03-18</td>\n",
       "      <td>23:12</td>\n",
       "      <td>N</td>\n",
       "      <td>nominal</td>\n",
       "      <td>2.0NRT</td>\n",
       "      <td>286.2</td>\n",
       "      <td>2.0</td>\n",
       "      <td>N</td>\n",
       "    </tr>\n",
       "    <tr>\n",
       "      <th>33694</th>\n",
       "      <td>-34.96877</td>\n",
       "      <td>22.16952</td>\n",
       "      <td>307.8</td>\n",
       "      <td>0.45</td>\n",
       "      <td>0.39</td>\n",
       "      <td>2021-03-18</td>\n",
       "      <td>23:12</td>\n",
       "      <td>N</td>\n",
       "      <td>nominal</td>\n",
       "      <td>2.0NRT</td>\n",
       "      <td>289.5</td>\n",
       "      <td>0.7</td>\n",
       "      <td>N</td>\n",
       "    </tr>\n",
       "    <tr>\n",
       "      <th>33695</th>\n",
       "      <td>-34.97235</td>\n",
       "      <td>22.16852</td>\n",
       "      <td>316.0</td>\n",
       "      <td>0.45</td>\n",
       "      <td>0.39</td>\n",
       "      <td>2021-03-18</td>\n",
       "      <td>23:12</td>\n",
       "      <td>N</td>\n",
       "      <td>nominal</td>\n",
       "      <td>2.0NRT</td>\n",
       "      <td>287.3</td>\n",
       "      <td>0.4</td>\n",
       "      <td>N</td>\n",
       "    </tr>\n",
       "  </tbody>\n",
       "</table>\n",
       "<p>33696 rows × 13 columns</p>\n",
       "</div>"
      ],
      "text/plain": [
       "       latitude  longitude  bright_ti4  scan  track    acq_date acq_time  \\\n",
       "0      67.81876   80.10433       347.8  0.61   0.71  2021-03-18    00:42   \n",
       "1      67.81555   80.10366       328.0  0.61   0.71  2021-03-18    00:42   \n",
       "2      68.52261   79.94617       346.1  0.55   0.68  2021-03-18    00:42   \n",
       "3      68.52469   79.96271       367.0  0.55   0.68  2021-03-18    00:42   \n",
       "4      68.52319   79.95365       367.0  0.55   0.68  2021-03-18    00:42   \n",
       "...         ...        ...         ...   ...    ...         ...      ...   \n",
       "33691 -33.98628   24.23182       301.5  0.40   0.37  2021-03-18    23:12   \n",
       "33692 -33.98705   24.23626       299.4  0.40   0.37  2021-03-18    23:12   \n",
       "33693 -32.96273   18.04679       306.1  0.52   0.50  2021-03-18    23:12   \n",
       "33694 -34.96877   22.16952       307.8  0.45   0.39  2021-03-18    23:12   \n",
       "33695 -34.97235   22.16852       316.0  0.45   0.39  2021-03-18    23:12   \n",
       "\n",
       "      satellite confidence version  bright_ti5   frp daynight  \n",
       "0             N    nominal  2.0NRT       242.4   8.4        N  \n",
       "1             N    nominal  2.0NRT       240.6   3.5        N  \n",
       "2             N    nominal  2.0NRT       238.6   6.5        N  \n",
       "3             N       high  2.0NRT       247.0   6.5        N  \n",
       "4             N       high  2.0NRT       247.8  11.1        N  \n",
       "...         ...        ...     ...         ...   ...      ...  \n",
       "33691         N    nominal  2.0NRT       288.2   0.8        N  \n",
       "33692         N    nominal  2.0NRT       287.6   0.4        N  \n",
       "33693         N    nominal  2.0NRT       286.2   2.0        N  \n",
       "33694         N    nominal  2.0NRT       289.5   0.7        N  \n",
       "33695         N    nominal  2.0NRT       287.3   0.4        N  \n",
       "\n",
       "[33696 rows x 13 columns]"
      ]
     },
     "execution_count": 23,
     "metadata": {},
     "output_type": "execute_result"
    }
   ],
   "source": [
    "dat"
   ]
  },
  {
   "cell_type": "markdown",
   "id": "6d20883e",
   "metadata": {},
   "source": [
    "# Reading fire outputs"
   ]
  },
  {
   "cell_type": "code",
   "execution_count": 3,
   "id": "807efa37",
   "metadata": {},
   "outputs": [],
   "source": [
    "import geopandas as gpd"
   ]
  },
  {
   "cell_type": "code",
   "execution_count": 20,
   "id": "71975232",
   "metadata": {},
   "outputs": [],
   "source": [
    "dat = gpd.read_file(\"s3://maap-ops-workspace/shared/gsfc_landslides/FEDSoutput-s3-conus/Caldor/2021/Largefire/F0_20210816AM/fireline.fgb\")"
   ]
  },
  {
   "cell_type": "code",
   "execution_count": 27,
   "id": "ce932fc9",
   "metadata": {},
   "outputs": [
    {
     "data": {
      "text/plain": [
       "<AxesSubplot:>"
      ]
     },
     "execution_count": 27,
     "metadata": {},
     "output_type": "execute_result"
    },
    {
     "data": {
      "image/png": "[encoded data removed]",
      "text/plain": [
       "<Figure size 640x480 with 1 Axes>"
      ]
     },
     "metadata": {},
     "output_type": "display_data"
    }
   ],
   "source": [
    "dat.plot()"
   ]
  }
 ],
 "metadata": {
  "kernelspec": {
   "display_name": "Python [conda env:root] *",
   "language": "python",
   "name": "conda-root-py"
  },
  "language_info": {
   "codemirror_mode": {
    "name": "ipython",
    "version": 3
   },
   "file_extension": ".py",
   "mimetype": "text/x-python",
   "name": "python",
   "nbconvert_exporter": "python",
   "pygments_lexer": "ipython3",
   "version": "3.7.8"
  }
 },
 "nbformat": 4,
 "nbformat_minor": 5
}
